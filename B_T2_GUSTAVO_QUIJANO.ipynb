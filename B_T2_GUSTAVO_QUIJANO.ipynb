{
  "nbformat": 4,
  "nbformat_minor": 0,
  "metadata": {
    "colab": {
      "provenance": [],
      "authorship_tag": "ABX9TyOP6MUOmToEaLtpiqk2hul+",
      "include_colab_link": true
    },
    "kernelspec": {
      "name": "python3",
      "display_name": "Python 3"
    },
    "language_info": {
      "name": "python"
    }
  },
  "cells": [
    {
      "cell_type": "markdown",
      "metadata": {
        "id": "view-in-github",
        "colab_type": "text"
      },
      "source": [
        "<a href=\"https://colab.research.google.com/github/GUS2524/hola-mundo/blob/main/B_T2_GUSTAVO_QUIJANO.ipynb\" target=\"_parent\"><img src=\"https://colab.research.google.com/assets/colab-badge.svg\" alt=\"Open In Colab\"/></a>"
      ]
    },
    {
      "cell_type": "code",
      "execution_count": 1,
      "metadata": {
        "colab": {
          "base_uri": "https://localhost:8080/"
        },
        "id": "lpHZXDMyghQe",
        "outputId": "6640c96e-36b8-4db1-fee7-f5da591643ce"
      },
      "outputs": [
        {
          "output_type": "stream",
          "name": "stdout",
          "text": [
            "hola mundo\n"
          ]
        }
      ],
      "source": [
        "print(\"hola mundo\")"
      ]
    },
    {
      "cell_type": "code",
      "source": [
        "num1=int(input(\"ingrese un numero: \"))\n",
        "num2= int(input(\"ingrese otro numero: \"))\n",
        "num3=num1+num2\n",
        "print(\"la suma de los valores es: \", num3)"
      ],
      "metadata": {
        "colab": {
          "base_uri": "https://localhost:8080/"
        },
        "id": "8aekeIGMhGn9",
        "outputId": "b381a89c-eb77-4006-cb4b-305312274b7d"
      },
      "execution_count": 3,
      "outputs": [
        {
          "output_type": "stream",
          "name": "stdout",
          "text": [
            "ingrese un numero: 1\n",
            "ingrese otro numero: 9\n",
            "la suma de los valores es:  10\n"
          ]
        }
      ]
    },
    {
      "cell_type": "code",
      "source": [
        "par_impar=int(input(\"ingrese un numero: \"))\n",
        "if par_impar%2==0:\n",
        "  print(\"el numero es par\")\n",
        "else:\n",
        "  print(\"el numero es impar\")\n"
      ],
      "metadata": {
        "colab": {
          "base_uri": "https://localhost:8080/"
        },
        "id": "a7mL1rNOhhaf",
        "outputId": "f788ccec-5572-4b08-eb57-d191a9ba1510"
      },
      "execution_count": 6,
      "outputs": [
        {
          "output_type": "stream",
          "name": "stdout",
          "text": [
            "ingrese un numero: 5\n",
            "el numero es impar\n"
          ]
        }
      ]
    },
    {
      "cell_type": "code",
      "source": [
        "num1=int(input(\"ingrese un numero: \"))\n",
        "num2= int(input(\"ingrese otro numero: \"))\n",
        "num3=num1+num2\n",
        "print(\"la suma es: \", num3,  \"la resta es: \", num1-num2, \"la division es: \", num1/num2, \"la multiplicacion es: \" ,num1*num2)\n",
        "\n",
        "\n",
        ""
      ],
      "metadata": {
        "colab": {
          "base_uri": "https://localhost:8080/"
        },
        "id": "YuULhZEdiPwG",
        "outputId": "0cd54d80-61b0-4e2d-a8dd-b2b205d92c03"
      },
      "execution_count": 9,
      "outputs": [
        {
          "output_type": "stream",
          "name": "stdout",
          "text": [
            "ingrese un numero: 1\n",
            "ingrese otro numero: 5\n",
            "la suma es:  6 la resta es:  -4 la division es:  0.2 la multiplicacion es:  5\n"
          ]
        }
      ]
    },
    {
      "cell_type": "code",
      "source": [
        "num4=int(input(\"ingreseun numero: \"))\n",
        "num5=int(input(\"ingreseun numero: \"))\n",
        "num6=int(input(\"ingreseun numero: \"))\n",
        "# Determinar cuál es el mayor\n",
        "if num4 > num5 and num4 > num6:\n",
        "    print(f\"El primer número ({num4}) es el mayor\")\n",
        "elif num5 > num4 and num5 > num6:\n",
        "    print(f\"El segundo número ({num5}) es el mayor\")\n",
        "elif num6 > num4 and num6 > num5:\n",
        "    print(f\"El tercer número ({num6}) es el mayor\")\n",
        "else:\n",
        "    print(\"Los números son iguales.\")"
      ],
      "metadata": {
        "colab": {
          "base_uri": "https://localhost:8080/"
        },
        "id": "AQ3293syimN-",
        "outputId": "c1085015-5ea3-4f81-b4af-ac71475f927d"
      },
      "execution_count": 14,
      "outputs": [
        {
          "output_type": "stream",
          "name": "stdout",
          "text": [
            "ingreseun numero: 4\n",
            "ingreseun numero: 5\n",
            "ingreseun numero: 3\n",
            "El segundo número (5) es el mayor\n"
          ]
        }
      ]
    },
    {
      "cell_type": "code",
      "source": [
        "import math\n",
        "rad1=float(input(\"ingrese el dario del circulo: \"))\n",
        "area = math.pi * radio**2\n",
        "print(\"el area de su circulo es: \",area)"
      ],
      "metadata": {
        "colab": {
          "base_uri": "https://localhost:8080/"
        },
        "id": "UT9FPGRIj6Hn",
        "outputId": "6d126ad3-8dc6-4f3d-be72-51680a774fd6"
      },
      "execution_count": 20,
      "outputs": [
        {
          "output_type": "stream",
          "name": "stdout",
          "text": [
            "ingrese el dario del circulo: 5\n",
            "el area de su circulo es:  78.53981633974483\n"
          ]
        }
      ]
    },
    {
      "cell_type": "code",
      "source": [
        "gra=int(input(\"ingrese los grados a convertir: \"))\n",
        "frar=(gra * 9/5) + 32\n",
        "print(\"grados farengeith\", frar)"
      ],
      "metadata": {
        "colab": {
          "base_uri": "https://localhost:8080/"
        },
        "id": "18U4t4t2nC5V",
        "outputId": "e0679595-00a3-433c-827d-a4bc7ba191be"
      },
      "execution_count": 22,
      "outputs": [
        {
          "output_type": "stream",
          "name": "stdout",
          "text": [
            "ingrese los grados a convertir: 5\n",
            "grados farengeith 41.0\n"
          ]
        }
      ]
    },
    {
      "cell_type": "code",
      "source": [],
      "metadata": {
        "id": "F4XVLC_4pCTT"
      },
      "execution_count": null,
      "outputs": []
    }
  ]
}