{
  "nbformat": 4,
  "nbformat_minor": 0,
  "metadata": {
    "colab": {
      "provenance": [],
      "authorship_tag": "ABX9TyOaK6IXoenLQ6s/UnqA4PCI",
      "include_colab_link": true
    },
    "kernelspec": {
      "name": "python3",
      "display_name": "Python 3"
    },
    "language_info": {
      "name": "python"
    }
  },
  "cells": [
    {
      "cell_type": "markdown",
      "metadata": {
        "id": "view-in-github",
        "colab_type": "text"
      },
      "source": [
        "<a href=\"https://colab.research.google.com/github/GUS2524/hola-mundo/blob/main/B_T2_GUSTAVO_QUIJANO.ipynb\" target=\"_parent\"><img src=\"https://colab.research.google.com/assets/colab-badge.svg\" alt=\"Open In Colab\"/></a>"
      ]
    },
    {
      "cell_type": "code",
      "execution_count": null,
      "metadata": {
        "colab": {
          "base_uri": "https://localhost:8080/"
        },
        "id": "lpHZXDMyghQe",
        "outputId": "6640c96e-36b8-4db1-fee7-f5da591643ce"
      },
      "outputs": [
        {
          "output_type": "stream",
          "name": "stdout",
          "text": [
            "hola mundo\n"
          ]
        }
      ],
      "source": [
        "#Genero una impresion de una cadena de texto en pantalla\n",
        "print(\"hola mundo\")"
      ]
    },
    {
      "cell_type": "code",
      "source": [
        "#creo dos variables que ingrese el usuario\n",
        "num1=int(input(\"ingrese un numero: \"))\n",
        "num2= int(input(\"ingrese otro numero: \"))\n",
        "#creo una variable que sume los datos\n",
        "num3=num1+num2\n",
        "print(\"la suma de los valores es: \", num3)"
      ],
      "metadata": {
        "colab": {
          "base_uri": "https://localhost:8080/"
        },
        "id": "8aekeIGMhGn9",
        "outputId": "b381a89c-eb77-4006-cb4b-305312274b7d"
      },
      "execution_count": null,
      "outputs": [
        {
          "output_type": "stream",
          "name": "stdout",
          "text": [
            "ingrese un numero: 1\n",
            "ingrese otro numero: 9\n",
            "la suma de los valores es:  10\n"
          ]
        }
      ]
    },
    {
      "cell_type": "code",
      "source": [
        "#creo un variable que ingrese el usuario\n",
        "par_impar=int(input(\"ingrese un numero: \"))\n",
        "#creo una condicion para qeu diferencie entre pares e impares\n",
        "if par_impar%2==0:\n",
        "  print(\"el numero es par\")\n",
        "else:\n",
        "  print(\"el numero es impar\")\n"
      ],
      "metadata": {
        "colab": {
          "base_uri": "https://localhost:8080/"
        },
        "id": "a7mL1rNOhhaf",
        "outputId": "f788ccec-5572-4b08-eb57-d191a9ba1510"
      },
      "execution_count": null,
      "outputs": [
        {
          "output_type": "stream",
          "name": "stdout",
          "text": [
            "ingrese un numero: 5\n",
            "el numero es impar\n"
          ]
        }
      ]
    },
    {
      "cell_type": "code",
      "source": [
        "#creo dos variables qeu ingrese el usuario\n",
        "para realizar las operaciones\n",
        "num1=int(input(\"ingrese un numero: \"))\n",
        "num2= int(input(\"ingrese otro numero: \"))\n",
        "num3=num1+num2\n",
        "#creamos una impresion qeu realice todas las operaciones\n",
        "print(\"la suma es: \", num3,  \"la resta es: \", num1-num2, \"la division es: \", num1/num2, \"la multiplicacion es: \" ,num1*num2)\n",
        "\n",
        "\n"
      ],
      "metadata": {
        "colab": {
          "base_uri": "https://localhost:8080/"
        },
        "id": "YuULhZEdiPwG",
        "outputId": "0cd54d80-61b0-4e2d-a8dd-b2b205d92c03"
      },
      "execution_count": null,
      "outputs": [
        {
          "output_type": "stream",
          "name": "stdout",
          "text": [
            "ingrese un numero: 1\n",
            "ingrese otro numero: 5\n",
            "la suma es:  6 la resta es:  -4 la division es:  0.2 la multiplicacion es:  5\n"
          ]
        }
      ]
    },
    {
      "cell_type": "code",
      "source": [
        "#creamos 3 variables qeu ingrese el usuario\n",
        "num4=int(input(\"ingreseun numero: \"))\n",
        "num5=int(input(\"ingreseun numero: \"))\n",
        "num6=int(input(\"ingreseun numero: \"))\n",
        "#aqui determinamos cuál es el mayor mediante validaciones\n",
        "if num4 > num5 and num4 > num6:\n",
        "    print(f\"El primer número ({num4}) es el mayor\")\n",
        "elif num5 > num4 and num5 > num6:\n",
        "    print(f\"El segundo número ({num5}) es el mayor\")\n",
        "elif num6 > num4 and num6 > num5:\n",
        "    print(f\"El tercer número ({num6}) es el mayor\")\n",
        "else:\n",
        "    print(\"Los números son iguales.\")"
      ],
      "metadata": {
        "colab": {
          "base_uri": "https://localhost:8080/"
        },
        "id": "AQ3293syimN-",
        "outputId": "c1085015-5ea3-4f81-b4af-ac71475f927d"
      },
      "execution_count": null,
      "outputs": [
        {
          "output_type": "stream",
          "name": "stdout",
          "text": [
            "ingreseun numero: 4\n",
            "ingreseun numero: 5\n",
            "ingreseun numero: 3\n",
            "El segundo número (5) es el mayor\n"
          ]
        }
      ]
    },
    {
      "cell_type": "code",
      "source": [
        "#importamos la libreria math\n",
        "import math\n",
        "#creamos una variable que ingrese el usuario\n",
        "rad1=float(input(\"ingrese el dario del circulo: \"))\n",
        "#realizamos una operacion para obtener el radio e imprimimos\n",
        "area = math.pi * radio**2\n",
        "print(\"el area de su circulo es: \",area)"
      ],
      "metadata": {
        "colab": {
          "base_uri": "https://localhost:8080/"
        },
        "id": "UT9FPGRIj6Hn",
        "outputId": "6d126ad3-8dc6-4f3d-be72-51680a774fd6"
      },
      "execution_count": null,
      "outputs": [
        {
          "output_type": "stream",
          "name": "stdout",
          "text": [
            "ingrese el dario del circulo: 5\n",
            "el area de su circulo es:  78.53981633974483\n"
          ]
        }
      ]
    },
    {
      "cell_type": "code",
      "source": [
        "#una variable de grados\n",
        "gra=int(input(\"ingrese los grados a convertir: \"))\n",
        "#realizamos la operacion necesaria para la conversion\n",
        "frar=(gra * 9/5) + 32\n",
        "print(\"grados farengeith\", frar)"
      ],
      "metadata": {
        "colab": {
          "base_uri": "https://localhost:8080/"
        },
        "id": "18U4t4t2nC5V",
        "outputId": "e0679595-00a3-433c-827d-a4bc7ba191be"
      },
      "execution_count": null,
      "outputs": [
        {
          "output_type": "stream",
          "name": "stdout",
          "text": [
            "ingrese los grados a convertir: 5\n",
            "grados farengeith 41.0\n"
          ]
        }
      ]
    },
    {
      "cell_type": "code",
      "source": [
        "#creamos una lista\n",
        "lista= [0,1,2,3,4,5,6,7,8,9,10]\n",
        "#ordenamos una lista y la invertimos\n",
        "lista.sort(reverse=True)\n",
        "print(\"Los números ordenados de mayor a menor son:\", lista)\n"
      ],
      "metadata": {
        "colab": {
          "base_uri": "https://localhost:8080/"
        },
        "id": "SqsZdxOSrqb1",
        "outputId": "9d32ca4c-844c-4ceb-887d-a028c50df0e0"
      },
      "execution_count": null,
      "outputs": [
        {
          "output_type": "stream",
          "name": "stdout",
          "text": [
            "Los números ordenados de mayor a menor son: [10, 9, 8, 7, 6, 5, 4, 3, 2, 1, 0]\n"
          ]
        }
      ]
    },
    {
      "cell_type": "code",
      "source": [
        "#creamos una variable que ingrese el usuario un numero para multiplicar\n",
        "tabla=int(input(\"ingrese el numero a realizar la tabla: \"))\n",
        "# recorremos un rango\n",
        "for i in range(11):\n",
        "#cramos una nueva variable para que vaya multiplicando mediante el rango y el numero ingresdo por el usuario\n",
        "  resul=tabla*i\n",
        "  print(f\"la tabla de los numeros es {resul}\")"
      ],
      "metadata": {
        "colab": {
          "base_uri": "https://localhost:8080/"
        },
        "id": "F4XVLC_4pCTT",
        "outputId": "5cd7e608-71e6-4111-c592-f048440265c4"
      },
      "execution_count": null,
      "outputs": [
        {
          "output_type": "stream",
          "name": "stdout",
          "text": [
            "ingrese el numero a realizar la tabla: 5\n",
            "la tabla de los numeros es 0\n",
            "la tabla de los numeros es 5\n",
            "la tabla de los numeros es 10\n",
            "la tabla de los numeros es 15\n",
            "la tabla de los numeros es 20\n",
            "la tabla de los numeros es 25\n",
            "la tabla de los numeros es 30\n",
            "la tabla de los numeros es 35\n",
            "la tabla de los numeros es 40\n",
            "la tabla de los numeros es 45\n",
            "la tabla de los numeros es 50\n"
          ]
        }
      ]
    },
    {
      "cell_type": "code",
      "source": [
        "#cramos una varible que ingrese el usuario\n",
        "num7 = int(input(\"ingrese un numero para determinar si es primo:\"))\n",
        "#creo una validacion para determinar los numeros primos segun los que ya conozco qeu son primos\n",
        "if num7/1==1 or num7/2==1 or num7/3==1 or num7/5==1 or num7/7==1 or num7/11==1 or num7/13==1 or num7/17==1 or num7/19==1 or num7/23==1 or num7/29==1 or num7/31==1 or num7/37==1 or num7/41==1 or num7/43==1 or num7/47==1 or num7/53==1 or num7/59==1 or num7/61==1 or num7/69==1:\n",
        "  print(\"es primo\")\n",
        "else:\n",
        "  print(\"no es primo\")"
      ],
      "metadata": {
        "id": "hMXqK_M-rhcF",
        "colab": {
          "base_uri": "https://localhost:8080/"
        },
        "outputId": "95d649f9-2b5e-4dc2-cc85-ca26f7604e76"
      },
      "execution_count": null,
      "outputs": [
        {
          "output_type": "stream",
          "name": "stdout",
          "text": [
            "ingrese un numero para determinar si es primo:5\n",
            "es primo\n"
          ]
        }
      ]
    },
    {
      "cell_type": "code",
      "source": [
        "#creamos un variabl que ingrese el usuario\n",
        "num8= int(input(\"ingrese el limite de la suma\"))\n",
        "#contador en cero\n",
        "sum=0\n",
        "#recorremos un rango\n",
        "for i in range(1,num8+1):\n",
        "#sumamos ese resultado recorrido a la variable sum\n",
        "  sum += i\n",
        "print(sum)\n"
      ],
      "metadata": {
        "id": "J-Ux6gPMlNbD",
        "colab": {
          "base_uri": "https://localhost:8080/"
        },
        "outputId": "c1f370f3-b035-492e-a9d9-af099fd3d9f0"
      },
      "execution_count": null,
      "outputs": [
        {
          "output_type": "stream",
          "name": "stdout",
          "text": [
            "ingrese el limite de la suma5\n",
            "15\n"
          ]
        }
      ]
    },
    {
      "cell_type": "code",
      "source": [
        "# hacemos qeu el usuario ingrese una cadena\n",
        "cade=input(\"ingrese una cadena a invertir\")\n",
        "#invertimos la cadena con el inicio y el fin mediante el -1\n",
        "cade_inver= cade[::-1]\n",
        "print(cade_inver)"
      ],
      "metadata": {
        "colab": {
          "base_uri": "https://localhost:8080/"
        },
        "id": "LBHJ26Iq5X0U",
        "outputId": "236f4f17-982f-4744-a5f0-2a0af20701d4"
      },
      "execution_count": null,
      "outputs": [
        {
          "output_type": "stream",
          "name": "stdout",
          "text": [
            "ingrese una cadena a invertirhola\n",
            "aloh\n"
          ]
        }
      ]
    },
    {
      "cell_type": "code",
      "source": [
        "# Solicitamos al usuario que ingrese una cadena\n",
        "cade1 = input(\"Ingrese una cadena: \")\n",
        "# Inicializar el contador de vocales\n",
        "conta = 0\n",
        "# Definimos las vocales (tanto minúsculas como mayúsculas)\n",
        "vocales = \"aeiouAEIOU\"\n",
        "# Recorremos cada caracter de la cadena\n",
        "for k in cade1:\n",
        "# Comprobamos si el carácter es una vocal\n",
        "    if k in vocales:\n",
        "# Incrementamos el contador de vocales\n",
        "        conta += 1\n",
        "\n",
        "# Imprimir el número total de vocales\n",
        "print(\"El número de vocales es:\", conta)\n"
      ],
      "metadata": {
        "colab": {
          "base_uri": "https://localhost:8080/"
        },
        "id": "bRf6A5y28pIu",
        "outputId": "482e2766-2b3b-4424-f8a9-c3770c45079c"
      },
      "execution_count": 72,
      "outputs": [
        {
          "output_type": "stream",
          "name": "stdout",
          "text": [
            "Ingrese una cadena: 8\n",
            "El número de vocales es: 0\n"
          ]
        }
      ]
    },
    {
      "cell_type": "code",
      "source": [
        "# Solicitamos al usuario que ingrese un nombre\n",
        "nom1 = input(\"Ingrese un nombre: \")\n",
        "\n",
        "# Invertimos el nombre procesado\n",
        "nom_inver = nombre[::-1]\n",
        "\n",
        "# Verificamos si el nombre original y el invertido son iguales\n",
        "if nom1 == nom_inver:\n",
        "    print(\"El nombre es un palíndromo.\")\n",
        "else:\n",
        "    print(\"El nombre no es un palíndromo.\")\n"
      ],
      "metadata": {
        "colab": {
          "base_uri": "https://localhost:8080/"
        },
        "id": "DeqnVovp-T96",
        "outputId": "864a5ec3-fe47-4c14-e919-f28a9baad2c2"
      },
      "execution_count": null,
      "outputs": [
        {
          "output_type": "stream",
          "name": "stdout",
          "text": [
            "Ingrese un nombre: ana\n",
            "El nombre no es un palíndromo.\n"
          ]
        }
      ]
    },
    {
      "cell_type": "code",
      "source": [
        "# Solicitamos al usuario que ingrese un número entero\n",
        "num9 = int(input(\"Ingrese un número entero para calcular su factorial: \"))\n",
        "\n",
        "# Iniciamos el factorial como 1\n",
        "fact = 1\n",
        "# Calculamos el factorial usando un bucle for\n",
        "for i in range(1, num9 + 1):\n",
        "    fact *= i\n",
        "\n",
        "# Imprimimos el resultado del factorial\n",
        "print(\"El factorial de\", num9, \"es:\", fact)"
      ],
      "metadata": {
        "id": "DJlYwQgk_uFv",
        "colab": {
          "base_uri": "https://localhost:8080/"
        },
        "outputId": "dc886413-f36e-477d-edd6-09094fc30c9a"
      },
      "execution_count": 69,
      "outputs": [
        {
          "output_type": "stream",
          "name": "stdout",
          "text": [
            "Ingrese un número entero para calcular su factorial: 5\n",
            "El factorial de 5 es: 120\n"
          ]
        }
      ]
    },
    {
      "cell_type": "code",
      "source": [
        "#importamos la libreria\n",
        "import random\n",
        "# Generamos y mostramos 5 números aleatorios entre 1 y 100\n",
        "print(\"5 números aleatorios entre 1 y 100:\")\n",
        "#recorremos un rango de 5\n",
        "for _ in range(5):\n",
        "#utilizamos la funcin random\n",
        "    numero_aleatorio = random.randint(1, 100)\n",
        "    print(numero_aleatorio)\n"
      ],
      "metadata": {
        "colab": {
          "base_uri": "https://localhost:8080/"
        },
        "id": "uXJxKtrEUrNR",
        "outputId": "2385b024-2273-4bc4-e74d-86070ef01092"
      },
      "execution_count": 70,
      "outputs": [
        {
          "output_type": "stream",
          "name": "stdout",
          "text": [
            "5 números aleatorios entre 1 y 100:\n",
            "71\n",
            "57\n",
            "35\n",
            "83\n",
            "79\n"
          ]
        }
      ]
    },
    {
      "cell_type": "code",
      "source": [
        "# Solicitamos al usuario que ingrese el peso en kilogramos y la altura en metros\n",
        "peso = float(input(\"Ingrese su peso en kilogramos: \"))\n",
        "altura = float(input(\"Ingrese su altura en metros: \"))\n",
        "\n",
        "# Calculamos el IMC\n",
        "imc = peso / (altura ** 2)\n",
        "\n",
        "# Imprimimos el IMC\n",
        "print(\"Su índice de masa corporal (IMC) es:\", imc)\n",
        "\n"
      ],
      "metadata": {
        "colab": {
          "base_uri": "https://localhost:8080/"
        },
        "id": "WHTRYjhSfv7e",
        "outputId": "c3dddc78-a54c-4a83-9ca3-2cf3751f07a2"
      },
      "execution_count": 71,
      "outputs": [
        {
          "output_type": "stream",
          "name": "stdout",
          "text": [
            "Ingrese su peso en kilogramos: 80.5\n",
            "Ingrese su altura en metros: 1.80\n",
            "Su índice de masa corporal (IMC) es: 24.845679012345677\n"
          ]
        }
      ]
    },
    {
      "cell_type": "code",
      "source": [],
      "metadata": {
        "id": "5V2i-ECRf-6i"
      },
      "execution_count": null,
      "outputs": []
    }
  ]
}